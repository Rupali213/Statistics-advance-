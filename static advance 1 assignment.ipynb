{
 "cells": [
  {
   "cell_type": "markdown",
   "metadata": {},
   "source": [
    "###  1. Explain the properties of the F-distribution."
   ]
  },
  {
   "cell_type": "code",
   "execution_count": null,
   "metadata": {
    "trusted": true
   },
   "outputs": [],
   "source": [
    "Properties of the F-distribution are : \n",
    "  1.Comparison of Variances: The F-distribution is primarily used to compare the variances of two groups.\n",
    "  2.Right-Skewed: It is a right-skewed distribution,\n",
    "    meaning it has a longer tail on the right.\n",
    "  3.Non-Negative: Since it's based on variances, the F-distribution values are always non-negative.\n",
    "  4.Degrees of Freedom: It is characterized by two sets of degrees of freedom:\n",
    "      df1: Associated with the variance in the numerator.\n",
    "      df2: Associated with the variance in the denominator.\n",
    "  5.ANOVA Application: It is crucial in ANOVA (Analysis of Variance) to determine if there are significant differences between the means of three or more groups."
   ]
  },
  {
   "cell_type": "markdown",
   "metadata": {},
   "source": [
    "### 2.In which types of statistical tests is the F-distribution used, and why is it appropriate for these tests"
   ]
  },
  {
   "cell_type": "code",
   "execution_count": null,
   "metadata": {
    "trusted": true
   },
   "outputs": [],
   "source": [
    "ANOVA (Analysis of Variance):\n",
    "Purpose:To compare the averages (means) of three or more groups.\n",
    "Why Use F-Distribution: It helps determine if the differences in group averages are genuine or just due to random variations.\n",
    "\n",
    "Comparing Variances Between Two Groups:\n",
    "Purpose: To check if the amount of variability (spread) in two groups is different.\n",
    "Why Use F-Distribution: It assesses if the variances in the two groups are the same or significantly different.\n"
   ]
  },
  {
   "cell_type": "markdown",
   "metadata": {},
   "source": [
    "### 3.What are the key assumptions required for conducting an F-test to compare the variances of two populations?"
   ]
  },
  {
   "cell_type": "code",
   "execution_count": null,
   "metadata": {
    "trusted": true
   },
   "outputs": [],
   "source": [
    "Key assumptions required for conducting an F-test to compare the variances of two populations are:\n",
    "*Normal Data: The data in both groups should look like a bell curve (normal distribution).\n",
    "*Independent Groups: The two groups shouldn’t influence each other.\n",
    "*Same Spread(Homogeneity): We assume both groups have the same amount of variation unless proven otherwise.\n",
    "*Random Picking: The data should come from randomly selected samples."
   ]
  },
  {
   "cell_type": "raw",
   "metadata": {},
   "source": [
    "4 What is the purpose of ANOVA, and how does it differ from a t-test? \n",
    "Anova is used to find means of two or more groups , it tells us whether mean of any Groups\n",
    "    is significantly different from other group \n",
    "\n",
    "  Difference from T-test \n",
    "  \n",
    "  1. Number of groups:\n",
    "    T test - It is used to compare means of two group \n",
    "    Anova - It is used to find means of three or more groups \n",
    " 2 .Variance Analysis:\n",
    "    T test - Directly compare mean of two groups\n",
    "    Anova - Compare variance between the sample and variance within the sample if mean of any\n",
    "            group is different\n",
    "3. Multiple Comparisons:\n",
    "  T test - Comparing t test with multiple groups raise the risk of false positive( type 1 error)\n",
    "  Anova- Comparing all groups simultanuosly it decreases the risk of error \n"
   ]
  },
  {
   "cell_type": "markdown",
   "metadata": {},
   "source": [
    "### 5. Explain when and why you would use a one-way ANOVA instead of multiple t-tests when comparing more than two groups."
   ]
  },
  {
   "cell_type": "markdown",
   "metadata": {},
   "source": [
    "Error risk: It reduce the risk of error (type 1 error ) by accessing all groups at once\n",
    "Efficiency: It saving us from conducting  various test \n",
    "Comprehensive Analysis: Anova checks all the group together to check if any one is really diffferent"
   ]
  },
  {
   "cell_type": "markdown",
   "metadata": {},
   "source": [
    "### 6. Explain how variance is partitioned in ANOVA into between-group variance and within-group variance. How does this partitioning contribute to the calculation of the F-statistic\n"
   ]
  },
  {
   "cell_type": "code",
   "execution_count": null,
   "metadata": {
    "trusted": true
   },
   "outputs": [],
   "source": [
    "Partition of variance in Anova \n",
    "    Variance between the group : To check how much differences are between the group \n",
    "                                 we find variances between the group ,this shows that how much group are different from \n",
    "                                  each other \n",
    "    Variance within the group : To check how much data differ from the mean  \n",
    "                                value within each group we find variance within the group \n",
    "\n",
    "F stats: F stats is used to compare variance between the group and variance within the group "
   ]
  },
  {
   "cell_type": "markdown",
   "metadata": {},
   "source": [
    "###  7. Compare the classical (frequentist) approach to ANOVA with the Bayesian approach. What are the key differences in terms of how they handle uncertainty, parameter estimation, and hypothesis testing?"
   ]
  },
  {
   "cell_type": "code",
   "execution_count": null,
   "metadata": {
    "trusted": true
   },
   "outputs": [],
   "source": [
    "Frequentist Approach (Classic):\n",
    "Uncertainty: Assumes the parameters we’re estimating are fixed but unknown.\n",
    "Parameter Estimation: Uses averages and spreads (like mean and variance) from the data.\n",
    "Hypothesis Testing: Makes decisions based on p-values, which show how likely the observed data is if the hypothesis is true.\n",
    "\n",
    "Bayesian Approach:\n",
    "Uncertainty: Parameters have their own distributions based on prior beliefs and get updated with new data.\n",
    "Parameter Estimation: Combines what we knew before (priors) with what the data tells us (likelihood) to get a full picture (posterior).\n",
    "Hypothesis Testing: Uses probabilities to make decisions, focusing on how the data updates our beliefs."
   ]
  },
  {
   "cell_type": "raw",
   "metadata": {},
   "source": [
    "8. Question: You have two sets of data representing the incomes of two different professions\n",
    "Profession A: [48, 52, 55, 60, 62]\n",
    "Profession B: [45, 50, 55, 52, 47] \n",
    "Perform an F-test to determine if the variances of the two professions' incomes are equal. What are your conclusions based on the F-test?\n",
    "Task: Use Python to calculate the F-statistic and p-value for the given data.\n",
    "Objective: Gain experience in performing F-tests and interpreting the results in terms of variance comparison"
   ]
  },
  {
   "cell_type": "code",
   "execution_count": 2,
   "metadata": {
    "trusted": true
   },
   "outputs": [
    {
     "name": "stdout",
     "output_type": "stream",
     "text": [
      "Variance of Profession A: 32.8\n",
      "Variance of Profession B: 15.7\n",
      "F-statistic: 2.089171974522293\n",
      "Critical value at alpha=0.05: 6.388232908695868\n",
      "P-value: 0.24652429950266952\n",
      "Fail to reject the null hypothesis: no significant difference in variances.\n"
     ]
    }
   ],
   "source": [
    "import numpy as np\n",
    "from scipy.stats import f\n",
    "\n",
    "# Define the income data\n",
    "profession_a = np.array([48, 52, 55, 60, 62])\n",
    "profession_b = np.array([45, 50, 55, 52, 47])\n",
    "\n",
    "# Calculate sample variances\n",
    "var_a = np.var(profession_a, ddof=1)\n",
    "var_b = np.var(profession_b, ddof=1)\n",
    "\n",
    "# Calculate the F-statistic\n",
    "f_statistic = var_a / var_b\n",
    "\n",
    "# Degrees of freedom\n",
    "df_a = len(profession_a) - 1\n",
    "df_b = len(profession_b) - 1\n",
    "\n",
    "# Significance level\n",
    "alpha = 0.05\n",
    "\n",
    "# Determine the critical value from the F-distribution\n",
    "critical_value = f.ppf(1 - alpha, df_a, df_b)\n",
    "\n",
    "# Calculate the p-value\n",
    "p_value = 1 - f.cdf(f_statistic, df_a, df_b)\n",
    "\n",
    "# Print the results\n",
    "print(f\"Variance of Profession A: {var_a}\")\n",
    "print(f\"Variance of Profession B: {var_b}\")\n",
    "print(f\"F-statistic: {f_statistic}\")\n",
    "print(f\"Critical value at alpha={alpha}: {critical_value}\")\n",
    "print(f\"P-value: {p_value}\")\n",
    "\n",
    "# Compare F-statistic to critical value\n",
    "if f_statistic > critical_value:\n",
    "    print(\"Reject the null hypothesis: variances are significantly different.\")\n",
    "else:\n",
    "    print(\"Fail to reject the null hypothesis: no significant difference in variances.\")\n"
   ]
  },
  {
   "cell_type": "raw",
   "metadata": {},
   "source": [
    "9. Question: Conduct a one-way ANOVA to test whether there are any statistically significant differences in \n",
    "average heights between three different regions with the following data\n",
    " Region A: [160, 162, 165, 158, 164]\n",
    " Region B: [172, 175, 170, 168, 174]\n",
    " Region C: [180, 182, 179, 185, 183]\n",
    " Task: Write Python code to perform the one-way ANOVA and interpret the results\n",
    " Objective: Learn how to perform one-way ANOVA using Python and interpret F-statistic and p-value"
   ]
  },
  {
   "cell_type": "code",
   "execution_count": 4,
   "metadata": {
    "trusted": true
   },
   "outputs": [
    {
     "name": "stdout",
     "output_type": "stream",
     "text": [
      "F-statistic: 67.87330316742101\n",
      "P-value: 2.870664187937026e-07\n",
      "Reject the null hypothesis: There is a significant difference in average heights between the regions.\n"
     ]
    }
   ],
   "source": [
    "from scipy.stats import f_oneway\n",
    "\n",
    "# Heights data for each region\n",
    "region_a = [160, 162, 165, 158, 164]\n",
    "region_b = [172, 175, 170, 168, 174]\n",
    "region_c = [180, 182, 179, 185, 183]\n",
    "\n",
    "# Perform one-way ANOVA\n",
    "f_statistic, p_value = f_oneway(region_a, region_b, region_c)\n",
    "\n",
    "# Print the results\n",
    "print(f\"F-statistic: {f_statistic}\")\n",
    "print(f\"P-value: {p_value}\")\n",
    "\n",
    "# Interpretation\n",
    "alpha = 0.05\n",
    "if p_value < alpha:\n",
    "    print(\"Reject the null hypothesis: There is a significant difference in average heights between the regions.\")\n",
    "else:\n",
    "    print(\"Fail to reject the null hypothesis: No significant difference in average heights between the regions.\")\n"
   ]
  },
  {
   "cell_type": "code",
   "execution_count": null,
   "metadata": {
    "trusted": true
   },
   "outputs": [],
   "source": []
  },
  {
   "cell_type": "code",
   "execution_count": null,
   "metadata": {
    "trusted": true
   },
   "outputs": [],
   "source": []
  }
 ],
 "metadata": {
  "kernelspec": {
   "display_name": "Python (Pyodide)",
   "language": "python",
   "name": "python"
  },
  "language_info": {
   "codemirror_mode": {
    "name": "python",
    "version": 3
   },
   "file_extension": ".py",
   "mimetype": "text/x-python",
   "name": "python",
   "nbconvert_exporter": "python",
   "pygments_lexer": "ipython3",
   "version": "3.8"
  }
 },
 "nbformat": 4,
 "nbformat_minor": 4
}
